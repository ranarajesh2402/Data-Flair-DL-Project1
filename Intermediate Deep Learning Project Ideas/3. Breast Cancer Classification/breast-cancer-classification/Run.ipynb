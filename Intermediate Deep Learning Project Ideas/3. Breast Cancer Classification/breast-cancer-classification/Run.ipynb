{
 "cells": [
  {
   "cell_type": "code",
   "execution_count": 1,
   "id": "bab57786",
   "metadata": {},
   "outputs": [],
   "source": [
    "\n",
    "import train_model1\n"
   ]
  },
  {
   "cell_type": "code",
   "execution_count": null,
   "id": "1750df9f",
   "metadata": {},
   "outputs": [
    {
     "name": "stdout",
     "output_type": "stream",
     "text": [
      "Found 199818 images belonging to 2 classes.\n",
      "Found 22201 images belonging to 2 classes.\n",
      "Found 55505 images belonging to 2 classes.\n",
      "Epoch 1/40\n",
      "1421/6244 [=====>........................] - ETA: 17:47 - loss: 0.7001 - accuracy: 0.7922"
     ]
    }
   ],
   "source": [
    "train_model1.run()"
   ]
  },
  {
   "cell_type": "code",
   "execution_count": null,
   "id": "c9bd2496",
   "metadata": {},
   "outputs": [],
   "source": []
  }
 ],
 "metadata": {
  "kernelspec": {
   "display_name": "Python 3 (ipykernel)",
   "language": "python",
   "name": "python3"
  },
  "language_info": {
   "codemirror_mode": {
    "name": "ipython",
    "version": 3
   },
   "file_extension": ".py",
   "mimetype": "text/x-python",
   "name": "python",
   "nbconvert_exporter": "python",
   "pygments_lexer": "ipython3",
   "version": "3.8.8"
  }
 },
 "nbformat": 4,
 "nbformat_minor": 5
}
