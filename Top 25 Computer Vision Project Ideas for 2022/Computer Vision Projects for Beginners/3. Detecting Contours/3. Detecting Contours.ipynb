{
 "cells": [
  {
   "cell_type": "markdown",
   "id": "f934c955",
   "metadata": {},
   "source": [
    " #### To autosave all the changes in the jupyter notebook in 10 second"
   ]
  },
  {
   "cell_type": "code",
   "execution_count": null,
   "id": "68dc9a44",
   "metadata": {
    "scrolled": true
   },
   "outputs": [],
   "source": [
    "# %autosave 3   "
   ]
  },
  {
   "cell_type": "code",
   "execution_count": 1,
   "id": "b56caf67",
   "metadata": {},
   "outputs": [],
   "source": [
    "import cv2\n",
    "\n",
    "# read the image\n",
    "image = cv2.imread('input/image_1.jpg')"
   ]
  },
  {
   "cell_type": "code",
   "execution_count": 2,
   "id": "9689b199",
   "metadata": {},
   "outputs": [],
   "source": [
    "# convert the image to grayscale format\n",
    "img_gray = cv2.cvtColor(image, cv2.COLOR_BGR2GRAY)"
   ]
  },
  {
   "cell_type": "code",
   "execution_count": 3,
   "id": "ae610612",
   "metadata": {},
   "outputs": [],
   "source": [
    "# apply binary thresholding\n",
    "ret, thresh = cv2.threshold(img_gray, 150, 255, cv2.THRESH_BINARY)\n",
    "# visualize the binary image\n",
    "cv2.imshow('Binary image', thresh)\n",
    "cv2.waitKey(0)\n",
    "cv2.imwrite('output/image_thres1.jpg', thresh)\n",
    "cv2.destroyAllWindows()"
   ]
  },
  {
   "cell_type": "markdown",
   "id": "4ad63f4a",
   "metadata": {},
   "source": [
    "# Drawing Contours using CHAIN_APPROX_NONE"
   ]
  },
  {
   "cell_type": "code",
   "execution_count": 4,
   "id": "71c8c600",
   "metadata": {},
   "outputs": [],
   "source": [
    "# detect the contours on the binary image using cv2.CHAIN_APPROX_NONE\n",
    "contours, hierarchy = cv2.findContours(image=thresh, mode=cv2.RETR_TREE, method=cv2.CHAIN_APPROX_NONE)\n",
    "                                     \n",
    "# draw contours on the original image\n",
    "image_copy = image.copy()\n",
    "cv2.drawContours(image=image_copy, contours=contours, contourIdx=-1, color=(0, 255, 0), thickness=2, lineType=cv2.LINE_AA)\n",
    "               \n",
    "# see the results\n",
    "cv2.imshow('None approximation', image_copy)\n",
    "cv2.waitKey(0)\n",
    "cv2.imwrite('output/contours_none_image1.jpg', image_copy)\n",
    "cv2.destroyAllWindows()"
   ]
  },
  {
   "cell_type": "markdown",
   "id": "1781a55d",
   "metadata": {},
   "source": [
    "### Using Single Channel: Red, Green, or Blue"
   ]
  },
  {
   "cell_type": "code",
   "execution_count": 5,
   "id": "32b3cd6b",
   "metadata": {},
   "outputs": [],
   "source": [
    "import cv2\n",
    "\n",
    "# read the image\n",
    "image = cv2.imread('input/image_1.jpg')\n",
    "\n",
    "# B, G, R channel splitting\n",
    "blue, green, red = cv2.split(image)\n",
    "\n",
    "# detect contours using blue channel and without thresholding\n",
    "contours1, hierarchy1 = cv2.findContours(image=blue, mode=cv2.RETR_TREE, method=cv2.CHAIN_APPROX_NONE)\n",
    "\n",
    "# draw contours on the original image\n",
    "image_contour_blue = image.copy()\n",
    "cv2.drawContours(image=image_contour_blue, contours=contours1, contourIdx=-1, color=(0, 255, 0), thickness=2, \n",
    "                 lineType=cv2.LINE_AA)\n",
    "# see the results\n",
    "cv2.imshow('Contour detection using blue channels only', image_contour_blue)\n",
    "cv2.waitKey(0)\n",
    "cv2.imwrite('output/blue_channel.jpg', image_contour_blue)\n",
    "\n",
    "\n",
    "# detect contours using green channel and without thresholding\n",
    "contours2, hierarchy2 = cv2.findContours(image=green, mode=cv2.RETR_TREE, method=cv2.CHAIN_APPROX_NONE)\n",
    "# draw contours on the original image\n",
    "image_contour_green = image.copy()\n",
    "cv2.drawContours(image=image_contour_green, contours=contours2, contourIdx=-1, color=(0, 255, 0), thickness=2, \n",
    "                 lineType=cv2.LINE_AA)\n",
    "# see the results\n",
    "cv2.imshow('Contour detection using green channels only', image_contour_green)\n",
    "cv2.waitKey(0)\n",
    "cv2.imwrite('output/green_channel.jpg', image_contour_green)\n",
    "\n",
    "\n",
    "# detect contours using red channel and without thresholding\n",
    "contours3, hierarchy3 = cv2.findContours(image=red, mode=cv2.RETR_TREE, method=cv2.CHAIN_APPROX_NONE)\n",
    "# draw contours on the original image\n",
    "image_contour_red = image.copy()\n",
    "cv2.drawContours(image=image_contour_red, contours=contours3, contourIdx=-1, color=(0, 255, 0), thickness=2, \n",
    "                 lineType=cv2.LINE_AA)\n",
    "# see the results\n",
    "cv2.imshow('Contour detection using red channels only', image_contour_red)\n",
    "cv2.waitKey(0)\n",
    "cv2.imwrite('output/red_channel.jpg', image_contour_red)\n",
    "cv2.destroyAllWindows()"
   ]
  },
  {
   "cell_type": "markdown",
   "id": "a7c23ef6",
   "metadata": {},
   "source": [
    "# Drawing Contours using CHAIN_APPROX_SIMPLE"
   ]
  },
  {
   "cell_type": "code",
   "execution_count": 6,
   "id": "a5fea084",
   "metadata": {},
   "outputs": [],
   "source": [
    "\"\"\"\n",
    "Now let's try with `cv2.CHAIN_APPROX_SIMPLE`\n",
    "\"\"\"\n",
    "# detect the contours on the binary image using cv2.ChAIN_APPROX_SIMPLE\n",
    "contours1, hierarchy1 = cv2.findContours(thresh, cv2.RETR_TREE, cv2.CHAIN_APPROX_SIMPLE)\n",
    "# draw contours on the original image for `CHAIN_APPROX_SIMPLE`\n",
    "image_copy1 = image.copy()\n",
    "cv2.drawContours(image_copy1, contours1, -1, (0, 255, 0), 2, cv2.LINE_AA)\n",
    "# see the results\n",
    "cv2.imshow('Simple approximation', image_copy1)\n",
    "cv2.waitKey(0)\n",
    "cv2.imwrite('output/contours_simple_image1.jpg', image_copy1)\n",
    "cv2.destroyAllWindows()"
   ]
  },
  {
   "cell_type": "markdown",
   "id": "56d256e9",
   "metadata": {},
   "source": [
    "# Detecting differences between the outputs of CHAIN_APPROX_NONE and CHAIN_APPROX_SIMPLE. "
   ]
  },
  {
   "cell_type": "code",
   "execution_count": 7,
   "id": "ab11be78",
   "metadata": {},
   "outputs": [],
   "source": [
    "# to actually visualize the effect of `CHAIN_APPROX_SIMPLE`, we need a proper image\n",
    "image1 = cv2.imread('input/image_2.jpg')\n",
    "img_gray1 = cv2.cvtColor(image1, cv2.COLOR_BGR2GRAY)\n",
    "\n",
    "ret, thresh1 = cv2.threshold(img_gray1, 150, 255, cv2.THRESH_BINARY)\n",
    "contours2, hierarchy2 = cv2.findContours(thresh1, cv2.RETR_TREE,\n",
    "                                               cv2.CHAIN_APPROX_SIMPLE)\n",
    "image_copy2 = image1.copy()\n",
    "cv2.drawContours(image_copy2, contours2, -1, (0, 255, 0), 2, cv2.LINE_AA)\n",
    "cv2.imshow('SIMPLE Approximation contours', image_copy2)\n",
    "cv2.waitKey(0)\n",
    "image_copy3 = image1.copy()\n",
    "for i, contour in enumerate(contours2): # loop over one contour area\n",
    "    for j, contour_point in enumerate(contour): # loop over the points\n",
    "       # draw a circle on the current contour coordinate\n",
    "       cv2.circle(image_copy3, ((contour_point[0][0], contour_point[0][1])), 2, (0, 255, 0), 2, cv2.LINE_AA)\n",
    "# see the results\n",
    "cv2.imshow('CHAIN_APPROX_SIMPLE Point only', image_copy3)\n",
    "cv2.waitKey(0)\n",
    "cv2.imwrite('output/contour_point_simple.jpg', image_copy3)\n",
    "cv2.destroyAllWindows()"
   ]
  },
  {
   "cell_type": "markdown",
   "id": "78f7109b",
   "metadata": {},
   "source": [
    "#### Always remember to press 'q' after the image is displayed\n",
    "#### Code Reference- \n",
    "https://learnopencv.com/contour-detection-using-opencv-python-c/"
   ]
  },
  {
   "cell_type": "code",
   "execution_count": null,
   "id": "39cd7b3d",
   "metadata": {},
   "outputs": [],
   "source": []
  }
 ],
 "metadata": {
  "kernelspec": {
   "display_name": "Python 3 (ipykernel)",
   "language": "python",
   "name": "python3"
  },
  "language_info": {
   "codemirror_mode": {
    "name": "ipython",
    "version": 3
   },
   "file_extension": ".py",
   "mimetype": "text/x-python",
   "name": "python",
   "nbconvert_exporter": "python",
   "pygments_lexer": "ipython3",
   "version": "3.8.8"
  }
 },
 "nbformat": 4,
 "nbformat_minor": 5
}
