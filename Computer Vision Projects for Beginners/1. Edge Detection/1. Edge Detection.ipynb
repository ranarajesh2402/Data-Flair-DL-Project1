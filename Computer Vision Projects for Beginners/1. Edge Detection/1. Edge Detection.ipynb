{
 "cells": [
  {
   "cell_type": "code",
   "execution_count": null,
   "id": "daf44544",
   "metadata": {},
   "outputs": [],
   "source": [
    "# For refrence - https://learnopencv.com/edge-detection-using-opencv/\n",
    "import cv2"
   ]
  },
  {
   "cell_type": "code",
   "execution_count": null,
   "id": "9e3c04ce",
   "metadata": {},
   "outputs": [],
   "source": [
    "# Read the original image\n",
    "img = cv2.imread('test.jpg') \n",
    "# Display original image\n",
    "cv2.imshow('Original', img)\n",
    "cv2.waitKey(0)\n",
    "cv2.destroyAllWindows()  # To remove the image after watching the image by pressing 'q'"
   ]
  },
  {
   "cell_type": "code",
   "execution_count": null,
   "id": "acc96ec7",
   "metadata": {},
   "outputs": [],
   "source": [
    "# Convert to graycsale\n",
    "img_gray = cv2.cvtColor(img, cv2.COLOR_BGR2GRAY)\n",
    "# Blur the image for better edge detection\n",
    "img_blur = cv2.GaussianBlur(img_gray, (3,3), 0) \n"
   ]
  },
  {
   "cell_type": "code",
   "execution_count": null,
   "id": "0801458e",
   "metadata": {},
   "outputs": [],
   "source": [
    "# Sobel Edge Detection\n",
    "sobelx = cv2.Sobel(src=img_blur, ddepth=cv2.CV_64F, dx=1, dy=0, ksize=5) # Sobel Edge Detection on the X axis\n",
    "sobely = cv2.Sobel(src=img_blur, ddepth=cv2.CV_64F, dx=0, dy=1, ksize=5) # Sobel Edge Detection on the Y axis\n",
    "sobelxy = cv2.Sobel(src=img_blur, ddepth=cv2.CV_64F, dx=1, dy=1, ksize=5) # Combined X and Y Sobel Edge Detection"
   ]
  },
  {
   "cell_type": "code",
   "execution_count": null,
   "id": "dd410002",
   "metadata": {},
   "outputs": [],
   "source": [
    "\n",
    "# Display Sobel Edge Detection Images\n",
    "cv2.imshow('Sobel X', sobelx)\n",
    "# To save the Sobel X file in local machine\n",
    "cv2.imwrite('Sobel_X.jpg', sobelx)\n",
    "# To see the Sobel X picture press 'q' in keyboard\n",
    "cv2.waitKey(0)\n",
    "cv2.destroyAllWindows()\n",
    "\n",
    "\n",
    "cv2.imshow('Sobel Y', sobely)\n",
    "# To save the Sobel Y file in local machine\n",
    "cv2.imwrite('Sobel_Y.jpg', sobely)\n",
    "# To see the Sobel Y picture press 'q' in keyboard\n",
    "cv2.waitKey(0)\n",
    "cv2.destroyAllWindows()\n",
    "\n",
    "cv2.imshow('Sobel X Y using Sobel() function', sobelxy)\n",
    "# To save the Sobel X Y file in local machine\n",
    "cv2.imwrite('Sobel_XY.jpg', sobelxy)\n",
    "# To see the Sobel X Y picture press 'q' in keyboard\n",
    "cv2.waitKey(0)\n",
    "cv2.destroyAllWindows()"
   ]
  },
  {
   "cell_type": "code",
   "execution_count": null,
   "id": "d7c9947f",
   "metadata": {},
   "outputs": [],
   "source": [
    "# Canny Edge Detection\n",
    "edges = cv2.Canny(image=img_blur, threshold1=100, threshold2=200) # Canny Edge Detection\n",
    "# Display Canny Edge Detection Image\n",
    "cv2.imshow('Canny Edge Detection', edges)\n",
    "# To save the Canny Edge file in local machine\n",
    "cv2.imwrite('Canny_Edge.jpg', edges)\n",
    "# To see the Canny Edge picture press 'q' in keyboard\n",
    "cv2.waitKey(0)\n",
    "cv2.destroyAllWindows()"
   ]
  },
  {
   "cell_type": "code",
   "execution_count": null,
   "id": "cd996078",
   "metadata": {},
   "outputs": [],
   "source": []
  }
 ],
 "metadata": {
  "kernelspec": {
   "display_name": "Python 3 (ipykernel)",
   "language": "python",
   "name": "python3"
  },
  "language_info": {
   "codemirror_mode": {
    "name": "ipython",
    "version": 3
   },
   "file_extension": ".py",
   "mimetype": "text/x-python",
   "name": "python",
   "nbconvert_exporter": "python",
   "pygments_lexer": "ipython3",
   "version": "3.8.8"
  }
 },
 "nbformat": 4,
 "nbformat_minor": 5
}
